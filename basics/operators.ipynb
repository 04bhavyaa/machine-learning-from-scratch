{
 "cells": [
  {
   "cell_type": "markdown",
   "metadata": {},
   "source": [
    "**Operators in Python:**\n",
    "\n",
    "1. **Arithmetic Operators**: Used to perform mathematical operations like addition, subtraction, etc.\n",
    "    - **`+`**: Addition\n",
    "    - **`-`**: Subtraction\n",
    "    - **`*`**: Multiplication\n",
    "    - **`/`**: Division (returns float)\n",
    "    - **`//`**: Floor Division (returns integer result)\n",
    "    - **`%`**: Modulus (returns remainder)\n",
    "    - **`**`**: Exponentiation (power)\n",
    "\n",
    "2. **Assignment Operators**: Used to assign values to variables.\n",
    "    - **`=`**: Assigns a value to a variable\n",
    "    - **`+=`**: Add and assign\n",
    "    - **`-=`**: Subtract and assign\n",
    "    - **`*=`**: Multiply and assign\n",
    "    - **`/=`**: Divide and assign\n",
    "    - **`//=`**: Floor divide and assign\n",
    "    - **`%=`**: Modulus and assign\n",
    "    - **`**=`**: Exponentiate and assign\n",
    "\n",
    "3. **Comparison Operators**: Used to compare two values and return a boolean result.\n",
    "    - **`==`**: Equal to\n",
    "    - **`!=`**: Not equal to\n",
    "    - **`>`**: Greater than\n",
    "    - **`<`**: Less than\n",
    "    - **`>=`**: Greater than or equal to\n",
    "    - **`<=`**: Less than or equal to\n",
    "\n",
    "4. **Logical Operators**: Used to combine conditional statements.\n",
    "    - **`and`**: Returns **True** if both conditions are true\n",
    "    - **`or`**: Returns **True** if at least one of the conditions is true\n",
    "    - **`not`**: Reverses the result (returns **True** if the condition is false)\n",
    "\n",
    "5. **Identity Operators**: Used to compare the memory location of two objects.\n",
    "    - **`is`**: Returns **True** if both variables point to the same object in memory\n",
    "    - **`is not`**: Returns **True** if both variables do not point to the same object in memory\n",
    "\n",
    "6. **Membership Operators**: Used to test if a value is a member of a sequence (like a list, tuple, or string).\n",
    "    - **`in`**: Returns **True** if the value is present in the sequence\n",
    "    - **`not in`**: Returns **True** if the value is not present in the sequence\n",
    "\n",
    "7. **Bitwise Operators**: Used to perform bit-level operations on integers.\n",
    "    - **`&`**: AND - Sets each bit to 1 if both bits are 1.\n",
    "    - **`|`**: OR - Sets each bit to 1 if one of two bits is 1.\n",
    "    - **`^`**: XOR - Sets each bit to 1 if only one of two bits is 1.\n",
    "    - **`~`**: NOT - Inverts all the bits.\n",
    "    - **`<<`**: Left shift - Shifts the bits of the number to the left, filling 0s from the right.\n",
    "    - **`>>`**: Right shift - Shifts the bits of the number to the right, filling 0s from the left.\n"
   ]
  },
  {
   "cell_type": "markdown",
   "metadata": {},
   "source": [
    "### Arithematic Operators"
   ]
  },
  {
   "cell_type": "code",
   "execution_count": 1,
   "metadata": {},
   "outputs": [
    {
     "name": "stdout",
     "output_type": "stream",
     "text": [
      "30\n",
      "-10\n",
      "200\n",
      "0.5\n",
      "10\n",
      "100000000000000000000\n",
      "0\n"
     ]
    }
   ],
   "source": [
    "num1 = 10\n",
    "num2 = 20\n",
    "\n",
    "# Addition\n",
    "print(num1 + num2)\n",
    "\n",
    "# Subtraction\n",
    "print(num1 - num2)\n",
    "\n",
    "# Multiplication\n",
    "print(num1 * num2)\n",
    "\n",
    "# Division\n",
    "print(num1 / num2)\n",
    "\n",
    "# Modulus\n",
    "print(num1 % num2)\n",
    "\n",
    "# Exponentiation\n",
    "print(num1 ** num2)\n",
    "\n",
    "# Floor Division\n",
    "print(num1 // num2)"
   ]
  },
  {
   "cell_type": "markdown",
   "metadata": {},
   "source": [
    "### Assignment Operators"
   ]
  },
  {
   "cell_type": "code",
   "execution_count": 2,
   "metadata": {},
   "outputs": [
    {
     "name": "stdout",
     "output_type": "stream",
     "text": [
      "30\n",
      "10\n",
      "200\n",
      "10.0\n",
      "10.0\n",
      "0.0\n",
      "0.0\n"
     ]
    }
   ],
   "source": [
    "# Assignment Operators\n",
    "num1 = 10\n",
    "num2 = 20\n",
    "\n",
    "# Add AND\n",
    "num1 += num2\n",
    "print(num1)\n",
    "\n",
    "# Subtract AND\n",
    "num1 -= num2\n",
    "print(num1)\n",
    "\n",
    "# Multiply AND\n",
    "num1 *= num2\n",
    "print(num1)\n",
    "\n",
    "# Divide AND\n",
    "num1 /= num2\n",
    "print(num1)\n",
    "\n",
    "# Modulus AND\n",
    "num1 %= num2\n",
    "print(num1)\n",
    "\n",
    "# Floor Division AND\n",
    "num1 //= num2\n",
    "print(num1)\n",
    "\n",
    "# Exponentiation AND\n",
    "num1 **= num2\n",
    "print(num1)"
   ]
  },
  {
   "cell_type": "markdown",
   "metadata": {},
   "source": [
    "### Comparison Operators"
   ]
  },
  {
   "cell_type": "code",
   "execution_count": 3,
   "metadata": {},
   "outputs": [
    {
     "name": "stdout",
     "output_type": "stream",
     "text": [
      "False\n",
      "True\n",
      "False\n",
      "True\n",
      "False\n",
      "True\n"
     ]
    }
   ],
   "source": [
    "# Comparison Operators\n",
    "num1 = 10\n",
    "num2 = 20\n",
    "\n",
    "# Greater than\n",
    "print(num1 > num2)\n",
    "\n",
    "# Less than\n",
    "print(num1 < num2)\n",
    "\n",
    "# Equal to\n",
    "print(num1 == num2)\n",
    "\n",
    "# Not equal to\n",
    "print(num1 != num2)\n",
    "\n",
    "# Greater than or equal to\n",
    "print(num1 >= num2)\n",
    "\n",
    "# Less than or equal to\n",
    "print(num1 <= num2)"
   ]
  },
  {
   "cell_type": "markdown",
   "metadata": {},
   "source": [
    "### Logical Operators"
   ]
  },
  {
   "cell_type": "code",
   "execution_count": 4,
   "metadata": {},
   "outputs": [
    {
     "name": "stdout",
     "output_type": "stream",
     "text": [
      "True\n",
      "True\n",
      "False\n"
     ]
    }
   ],
   "source": [
    "# Logical Operators\n",
    "num1 = 10\n",
    "num2 = 20\n",
    "\n",
    "# AND\n",
    "print(num1 > 5 and num2 < 30)\n",
    "\n",
    "# OR\n",
    "print(num1 > 5 or num2 < 30)\n",
    "\n",
    "# NOT\n",
    "print(not num1 > 5)"
   ]
  },
  {
   "cell_type": "markdown",
   "metadata": {},
   "source": [
    "### Identity Operators"
   ]
  },
  {
   "cell_type": "code",
   "execution_count": 5,
   "metadata": {},
   "outputs": [
    {
     "name": "stdout",
     "output_type": "stream",
     "text": [
      "False\n",
      "True\n"
     ]
    }
   ],
   "source": [
    "# Identity Operators\n",
    "num1 = 10\n",
    "num2 = 20\n",
    "\n",
    "# is\n",
    "print(num1 is num2)\n",
    "\n",
    "# is not\n",
    "print(num1 is not num2)\n"
   ]
  },
  {
   "cell_type": "markdown",
   "metadata": {},
   "source": [
    "### Membership Operators"
   ]
  },
  {
   "cell_type": "code",
   "execution_count": 6,
   "metadata": {},
   "outputs": [
    {
     "name": "stdout",
     "output_type": "stream",
     "text": [
      "True\n",
      "False\n"
     ]
    }
   ],
   "source": [
    "# Membership Operators\n",
    "num1 = 10\n",
    "num2 = 20\n",
    "list = [10, 20, 30, 40, 50]\n",
    "\n",
    "# in\n",
    "print(num1 in list)\n",
    "\n",
    "# not in\n",
    "print(num2 not in list)"
   ]
  },
  {
   "cell_type": "markdown",
   "metadata": {},
   "source": [
    "### Bitwise Operators"
   ]
  },
  {
   "cell_type": "code",
   "execution_count": 7,
   "metadata": {},
   "outputs": [
    {
     "name": "stdout",
     "output_type": "stream",
     "text": [
      "0\n",
      "30\n",
      "30\n",
      "-11\n",
      "40\n",
      "2\n"
     ]
    }
   ],
   "source": [
    "# Bitwise Operators\n",
    "num1 = 10\n",
    "num2 = 20\n",
    "\n",
    "# Bitwise AND\n",
    "print(num1 & num2)\n",
    "\n",
    "# Bitwise OR\n",
    "print(num1 | num2)\n",
    "\n",
    "# Bitwise XOR\n",
    "print(num1 ^ num2)\n",
    "\n",
    "# Bitwise NOT\n",
    "print(~num1)\n",
    "\n",
    "# Bitwise Left Shift\n",
    "print(num1 << 2)\n",
    "\n",
    "# Bitwise Right Shift\n",
    "print(num1 >> 2)"
   ]
  },
  {
   "cell_type": "markdown",
   "metadata": {},
   "source": [
    "### Order of Operations"
   ]
  },
  {
   "cell_type": "code",
   "execution_count": 8,
   "metadata": {},
   "outputs": [
    {
     "name": "stdout",
     "output_type": "stream",
     "text": [
      "610\n",
      "900\n"
     ]
    }
   ],
   "source": [
    "# Order of Operations\n",
    "num1 = 10\n",
    "num2 = 20\n",
    "num3 = 30\n",
    "\n",
    "print(num1 + num2 * num3)\n",
    "print((num1 + num2) * num3)"
   ]
  }
 ],
 "metadata": {
  "kernelspec": {
   "display_name": "venv",
   "language": "python",
   "name": "python3"
  },
  "language_info": {
   "codemirror_mode": {
    "name": "ipython",
    "version": 3
   },
   "file_extension": ".py",
   "mimetype": "text/x-python",
   "name": "python",
   "nbconvert_exporter": "python",
   "pygments_lexer": "ipython3",
   "version": "3.12.7"
  }
 },
 "nbformat": 4,
 "nbformat_minor": 2
}
