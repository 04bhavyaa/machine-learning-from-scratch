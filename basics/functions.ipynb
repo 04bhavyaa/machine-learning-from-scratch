{
 "cells": [
  {
   "cell_type": "markdown",
   "metadata": {},
   "source": [
    "**Functions in Python**\n",
    "\n",
    "A function in Python is a block of code that only runs when it is called. Functions can take inputs, process them, and return outputs. They allow for code reuse and modular programming.\n",
    "\n",
    "1. **Defining a Function**: Functions are defined using the `def` keyword followed by the function name and parameters in parentheses.\n",
    "    ```python\n",
    "    def function_name(parameters):\n",
    "        # Function body\n",
    "        return result\n",
    "    ```\n",
    "\n",
    "2. **Calling a Function**: Once a function is defined, it can be called by its name with appropriate arguments.\n",
    "    ```python\n",
    "    function_name(arguments)\n",
    "    ```\n",
    "\n",
    "3. **Function Parameters**: Functions can take zero or more parameters. Parameters are variables passed into the function to provide input.\n",
    "    - **Positional Arguments**: The arguments are passed in the order the function defines them.\n",
    "    - **Keyword Arguments**: Arguments are passed by specifying the parameter name.\n",
    "    - **Default Arguments**: You can set default values for parameters.\n",
    "    - **Variable-Length Arguments**: Functions can accept an arbitrary number of arguments using `*args` (for non-keyword arguments) and `**kwargs` (for keyword arguments).\n",
    "\n",
    "4. **Return Statement**: A function can return a value using the `return` keyword. If no return is specified, the function returns `None`.\n",
    "    ```python\n",
    "    def add(a, b):\n",
    "        return a + b\n",
    "    ```\n",
    "\n",
    "5. **Lambda Functions**: Python supports anonymous functions (i.e., functions without a name) using the `lambda` keyword. These are useful for simple, short functions.\n",
    "    ```python\n",
    "    add = lambda a, b: a + b\n",
    "    ```\n",
    "\n",
    "6. **Function Scope**: The scope of variables inside a function is local, meaning they cannot be accessed outside the function. You can use the `global` keyword to modify a global variable inside a function.\n",
    "    ```python\n",
    "    x = 10  # global variable\n",
    "\n",
    "    def my_function():\n",
    "        global x\n",
    "        x = 20  # modifies the global variable\n",
    "    ```\n",
    "\n",
    "7. **Recursion**: A function can call itself, which is known as recursion. It is useful for problems that can be broken down into smaller sub-problems.\n",
    "    ```python\n",
    "    def factorial(n):\n",
    "        if n == 0:\n",
    "            return 1\n",
    "        else:\n",
    "            return n * factorial(n-1)\n",
    "    ```\n",
    "\n",
    "8. **Anonymous Functions**: Lambda functions are anonymous functions that are defined using the `lambda` keyword.\n",
    "    ```python\n",
    "    multiply = lambda x, y: x * y\n",
    "    ```\n",
    "\n",
    "9. **Higher-Order Functions**: Functions that take other functions as arguments or return functions as results.\n",
    "    ```python\n",
    "    def apply_function(func, x, y):\n",
    "        return func(x, y)\n",
    "\n",
    "    result = apply_function(lambda a, b: a + b, 2, 3)  # Output: 5\n",
    "    ```\n",
    "\n",
    "10. **Docstrings**: Functions can have documentation strings (docstrings) right after the function definition to describe their behavior.\n",
    "    ```python\n",
    "    def greet(name):\n",
    "        \"\"\"This function greets the person passed in as the name argument.\"\"\"\n",
    "        print(f\"Hello, {name}\")\n",
    "    ```\n",
    "\n",
    "11. **Function Annotations**: Python allows optional type hints for function arguments and return values.\n",
    "    ```python\n",
    "    def add(a: int, b: int) -> int:\n",
    "        return a + b\n",
    "    ```\n",
    "\n"
   ]
  },
  {
   "cell_type": "code",
   "execution_count": 1,
   "metadata": {},
   "outputs": [],
   "source": [
    "# Functions in Python\n",
    "\n",
    "def greet():\n",
    "    print(\"Hello, World!\")\n",
    "\n",
    "def greet_user(name):\n",
    "    print(f\"Hello, {name}!\")\n",
    "\n",
    "def greet_user_with_default(name=\"World\"):\n",
    "    print(f\"Hello, {name}!\")\n",
    "\n",
    "def add(a, b):\n",
    "    return a + b\n",
    "\n",
    "def add_with_default(a, b=0):\n",
    "    return a + b\n",
    "\n",
    "def add_with_default2(a=0, b=0):\n",
    "    return a + b"
   ]
  },
  {
   "cell_type": "code",
   "execution_count": 2,
   "metadata": {},
   "outputs": [
    {
     "name": "stdout",
     "output_type": "stream",
     "text": [
      "Hello, World!\n",
      "Hello, Alice!\n",
      "Hello, Bob!\n",
      "Hello, Charlie!\n",
      "Hello, World!\n",
      "5\n",
      "5\n",
      "2\n",
      "5\n",
      "2\n",
      "0\n"
     ]
    }
   ],
   "source": [
    "greet()\n",
    "greet_user(\"Alice\")\n",
    "greet_user(\"Bob\")\n",
    "greet_user_with_default(\"Charlie\")\n",
    "greet_user_with_default()\n",
    "print(add(2, 3))\n",
    "print(add_with_default(2, 3))\n",
    "print(add_with_default(2))\n",
    "print(add_with_default2(2, 3))\n",
    "print(add_with_default2(2))\n",
    "print(add_with_default2())"
   ]
  },
  {
   "cell_type": "code",
   "execution_count": 3,
   "metadata": {},
   "outputs": [
    {
     "name": "stdout",
     "output_type": "stream",
     "text": [
      "5\n"
     ]
    }
   ],
   "source": [
    "# Functions are first-class citizens in Python\n",
    "def apply(f, a, b):\n",
    "    return f(a, b)\n",
    "\n",
    "print(apply(add, 2, 3))"
   ]
  },
  {
   "cell_type": "code",
   "execution_count": 4,
   "metadata": {},
   "outputs": [
    {
     "name": "stdout",
     "output_type": "stream",
     "text": [
      "5\n"
     ]
    }
   ],
   "source": [
    "# Lambda functions\n",
    "add_lambda = lambda a, b: a + b\n",
    "print(add_lambda(2, 3))"
   ]
  },
  {
   "cell_type": "code",
   "execution_count": 5,
   "metadata": {},
   "outputs": [
    {
     "name": "stdout",
     "output_type": "stream",
     "text": [
      "10\n"
     ]
    }
   ],
   "source": [
    "# Higher-order functions\n",
    "def apply_twice(f, a, b):\n",
    "    return f(f(a, b), f(a, b))\n",
    "\n",
    "print(apply_twice(add, 2, 3))"
   ]
  },
  {
   "cell_type": "code",
   "execution_count": 6,
   "metadata": {},
   "outputs": [
    {
     "name": "stdout",
     "output_type": "stream",
     "text": [
      "5\n"
     ]
    }
   ],
   "source": [
    "# Nested functions\n",
    "def outer(a):\n",
    "    def inner(b):\n",
    "        return a + b\n",
    "    return inner\n",
    "\n",
    "add_2 = outer(2)\n",
    "print(add_2(3))"
   ]
  },
  {
   "cell_type": "code",
   "execution_count": 7,
   "metadata": {},
   "outputs": [
    {
     "name": "stdout",
     "output_type": "stream",
     "text": [
      "7\n"
     ]
    }
   ],
   "source": [
    "# Closures\n",
    "def outer2(a):\n",
    "    def inner2(b):\n",
    "        return a + b\n",
    "    return inner2\n",
    "\n",
    "add_3 = outer2(3)\n",
    "print(add_3(4))"
   ]
  },
  {
   "cell_type": "code",
   "execution_count": 9,
   "metadata": {},
   "outputs": [
    {
     "name": "stdout",
     "output_type": "stream",
     "text": [
      "Something is happening before the function is called.\n",
      "Hello!\n",
      "Something is happening after the function is called.\n"
     ]
    }
   ],
   "source": [
    "# Decorators\n",
    "def my_decorator(f):\n",
    "    def wrapper():\n",
    "        print(\"Something is happening before the function is called.\")\n",
    "        f()\n",
    "        print(\"Something is happening after the function is called.\")\n",
    "    return wrapper\n",
    "\n",
    "@my_decorator\n",
    "def say_hello():\n",
    "    print(\"Hello!\")\n",
    "\n",
    "say_hello()"
   ]
  },
  {
   "cell_type": "code",
   "execution_count": 10,
   "metadata": {},
   "outputs": [
    {
     "name": "stdout",
     "output_type": "stream",
     "text": [
      "Something is happening before the function is called.\n",
      "Hello, David!\n",
      "Something is happening after the function is called.\n"
     ]
    }
   ],
   "source": [
    "# Decorators with arguments\n",
    "def my_decorator2(f):\n",
    "    def wrapper(*args, **kwargs):\n",
    "        print(\"Something is happening before the function is called.\")\n",
    "        f(*args, **kwargs)\n",
    "        print(\"Something is happening after the function is called.\")\n",
    "    return wrapper\n",
    "\n",
    "@my_decorator2\n",
    "def say_hello2(name):\n",
    "    print(f\"Hello, {name}!\")\n",
    "\n",
    "say_hello2(\"David\")"
   ]
  },
  {
   "cell_type": "code",
   "execution_count": 11,
   "metadata": {},
   "outputs": [
    {
     "name": "stdout",
     "output_type": "stream",
     "text": [
      "Hello, Eve!\n",
      "Hello, Eve!\n",
      "Hello, Eve!\n"
     ]
    }
   ],
   "source": [
    "# Decorators with arguments\n",
    "def repeat(n):\n",
    "    def my_decorator3(f):\n",
    "        def wrapper(*args, **kwargs):\n",
    "            for _ in range(n):\n",
    "                f(*args, **kwargs)\n",
    "        return wrapper\n",
    "    return my_decorator3\n",
    "\n",
    "@repeat(3)\n",
    "def say_hello3(name):\n",
    "    print(f\"Hello, {name}!\")\n",
    "\n",
    "say_hello3(\"Eve\")"
   ]
  },
  {
   "cell_type": "code",
   "execution_count": 12,
   "metadata": {},
   "outputs": [
    {
     "name": "stdout",
     "output_type": "stream",
     "text": [
      "120\n"
     ]
    }
   ],
   "source": [
    "# Factorial of a number\n",
    "def factorial(n):\n",
    "    if n == 0:\n",
    "        return 1\n",
    "    else:\n",
    "        return n * factorial(n - 1)\n",
    "    \n",
    "print(factorial(5))"
   ]
  },
  {
   "cell_type": "code",
   "execution_count": 15,
   "metadata": {},
   "outputs": [
    {
     "name": "stdout",
     "output_type": "stream",
     "text": [
      "0 1 1 2 3 5 8 13 21 34 "
     ]
    }
   ],
   "source": [
    "# Fibonacci sequence up to n-th term\n",
    "def fibonacci(n):\n",
    "    if n <= 1:\n",
    "        return n\n",
    "    else:\n",
    "        return fibonacci(n - 1) + fibonacci(n - 2)\n",
    "    \n",
    "for i in range(10):\n",
    "    print(fibonacci(i), end=\" \")"
   ]
  },
  {
   "cell_type": "code",
   "execution_count": 16,
   "metadata": {},
   "outputs": [
    {
     "name": "stdout",
     "output_type": "stream",
     "text": [
      "0 1 1 2 3 5 8 13 21 34 "
     ]
    }
   ],
   "source": [
    "# Fibonacci sequence up to n-th term using memoization\n",
    "# Memoization is an optimization technique used primarily to speed up computer programs by storing the results of expensive function calls and returning the cached result when the same inputs occur again.\n",
    "def fibonacci_memo(n, memo={}):\n",
    "    if n in memo:\n",
    "        return memo[n]\n",
    "    if n <= 1:\n",
    "        return n\n",
    "    memo[n] = fibonacci_memo(n - 1, memo) + fibonacci_memo(n - 2, memo)\n",
    "    return memo[n]\n",
    "\n",
    "for i in range(10):\n",
    "    print(fibonacci_memo(i), end=\" \")"
   ]
  },
  {
   "cell_type": "code",
   "execution_count": 17,
   "metadata": {},
   "outputs": [
    {
     "name": "stdout",
     "output_type": "stream",
     "text": [
      "0 1 1 2 3 5 8 13 21 34 "
     ]
    }
   ],
   "source": [
    "# Fibonacci sequence up to n-th term using dynamic programming\n",
    "def fibonacci_dp(n):\n",
    "    if n <= 1:\n",
    "        return n\n",
    "    a, b = 0, 1\n",
    "    for _ in range(n - 1):\n",
    "        a, b = b, a + b\n",
    "    return b\n",
    "\n",
    "for i in range(10):\n",
    "    print(fibonacci_dp(i), end=\" \")"
   ]
  },
  {
   "cell_type": "code",
   "execution_count": 18,
   "metadata": {},
   "outputs": [
    {
     "name": "stdout",
     "output_type": "stream",
     "text": [
      "0 1 1 2 3 5 8 13 21 34 "
     ]
    }
   ],
   "source": [
    "# Fibonacci sequence up to n-th term using dynamic programming with memoization\n",
    "def fibonacci_dp_memo(n):\n",
    "    if n <= 1:\n",
    "        return n\n",
    "    memo = [0] * (n + 1)\n",
    "    memo[1] = 1\n",
    "    for i in range(2, n + 1):\n",
    "        memo[i] = memo[i - 1] + memo[i - 2]\n",
    "    return memo[n]\n",
    "\n",
    "for i in range(10):\n",
    "    print(fibonacci_dp_memo(i), end=\" \")\n",
    "    "
   ]
  },
  {
   "cell_type": "code",
   "execution_count": 19,
   "metadata": {},
   "outputs": [
    {
     "name": "stdout",
     "output_type": "stream",
     "text": [
      "True\n",
      "True\n",
      "False\n"
     ]
    }
   ],
   "source": [
    "# Function to check if a number is prime\n",
    "def is_prime(n):\n",
    "    if n <= 1:\n",
    "        return False\n",
    "    for i in range(2, int(n ** 0.5) + 1):\n",
    "        if n % i == 0:\n",
    "            return False\n",
    "    return True\n",
    "\n",
    "print(is_prime(2))\n",
    "print(is_prime(3))\n",
    "print(is_prime(4))"
   ]
  },
  {
   "cell_type": "code",
   "execution_count": 20,
   "metadata": {},
   "outputs": [
    {
     "name": "stdout",
     "output_type": "stream",
     "text": [
      "[2, 3, 5, 7]\n"
     ]
    }
   ],
   "source": [
    "# Function to generate prime numbers up to n\n",
    "def generate_primes(n):\n",
    "    primes = []\n",
    "    for i in range(2, n + 1):\n",
    "        if is_prime(i):\n",
    "            primes.append(i)\n",
    "    return primes\n",
    "\n",
    "print(generate_primes(10))"
   ]
  }
 ],
 "metadata": {
  "kernelspec": {
   "display_name": "venv",
   "language": "python",
   "name": "python3"
  },
  "language_info": {
   "codemirror_mode": {
    "name": "ipython",
    "version": 3
   },
   "file_extension": ".py",
   "mimetype": "text/x-python",
   "name": "python",
   "nbconvert_exporter": "python",
   "pygments_lexer": "ipython3",
   "version": "3.12.7"
  }
 },
 "nbformat": 4,
 "nbformat_minor": 2
}
