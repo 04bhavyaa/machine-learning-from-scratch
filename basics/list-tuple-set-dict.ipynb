{
 "cells": [
  {
   "cell_type": "markdown",
   "metadata": {},
   "source": [
    "**Programming Languages for Machine Learning:**\n",
    "1. **Python** (General Purpose Language, many use cases, hence more preferred.)\n",
    "2. **R** (Statistical Language)\n",
    "\n",
    "**Basic Data Types in Python:**\n",
    "1. **Integer (`int`)**: Represents whole numbers (positive, negative, or zero). Example: `x = 5`\n",
    "2. **Floating Point (`float`)**: Represents numbers with a decimal point. Example: `x = 3.14`\n",
    "3. **Complex (`complex`)**: Represents complex numbers, having a real and an imaginary part. Example: `x = 2 + 3j`\n",
    "4. **Boolean (`bool`)**: Represents truth values, either **True** or **False**. Example: `x = True`\n",
    "5. **String (`str`)**: Represents a sequence of characters. Example: `x = \"Hello, World!\"`\n",
    "\n",
    "**Types of Objects in Python:**\n",
    "\n",
    "- **Immutable Objects**: Immutable objects cannot be modified after they are created. Examples of Immutable Objects:\n",
    "    1. **`int`**: Integers are immutable. Once you create an integer, you cannot change its value directly. Example: `x = 10`, you can't change `x` to 15 directly without assigning a new value to `x`.\n",
    "    2. **`float`**: Floats are also immutable. Example: `x = 3.14`, you can't change `x` to 2.71 directly.\n",
    "    3. **`str` (string)**: Strings are immutable. You can't change a character in a string directly. Example: `x = \"hello\"`, you cannot do `x[0] = \"H\"`.\n",
    "    4. **`bool`**: Booleans are immutable. Example: `x = True`, you can't change `x` to **False** directly without assignment.\n",
    "    5. **`tuple`**: Tuples are immutable sequences. Once created, their contents cannot be changed. Example: `x = (1, 2, 3)`.\n",
    "\n",
    "- **Mutable Objects**: Mutable objects can be modified after they are created. Examples of Mutable Objects:\n",
    "    1. **`list`**: Lists are mutable. You can change individual elements in a list. Example: `x = [1, 2, 3]`, you can change `x[0] = 10`.\n",
    "    2. **`set`**: Sets are mutable collections of unique elements. Example: `x = {1, 2, 3}`, you can add or remove elements from the set.\n",
    "    3. **`dict` (dictionary)**: Dictionaries are mutable key-value pairs. Example: `x = {'key': 'value'}`, you can change the value associated with a key or add new key-value pairs.\n"
   ]
  },
  {
   "cell_type": "markdown",
   "metadata": {},
   "source": [
    "### Lists"
   ]
  },
  {
   "cell_type": "code",
   "execution_count": 48,
   "metadata": {},
   "outputs": [
    {
     "name": "stdout",
     "output_type": "stream",
     "text": [
      "['apple', 'banana', 'cherry']\n"
     ]
    }
   ],
   "source": [
    "# List \n",
    "# List is a collection which is ordered and changeable. Allows duplicate members.\n",
    "# In Python lists are written with square brackets.\n",
    "list1 = [\"apple\", \"banana\", \"cherry\"]\n",
    "print(list1)"
   ]
  },
  {
   "cell_type": "code",
   "execution_count": 49,
   "metadata": {},
   "outputs": [
    {
     "name": "stdout",
     "output_type": "stream",
     "text": [
      "banana\n"
     ]
    }
   ],
   "source": [
    "# Access Items\n",
    "# You access the list items by referring to the index number (starts from 0).:\n",
    "print(list1[1])"
   ]
  },
  {
   "cell_type": "code",
   "execution_count": 51,
   "metadata": {},
   "outputs": [
    {
     "name": "stdout",
     "output_type": "stream",
     "text": [
      "['apple', 'blackcurrant', 'cherry']\n"
     ]
    }
   ],
   "source": [
    "# Change Item Value\n",
    "# To change the value of a specific item, refer to the index number:\n",
    "list1[1] = \"blackcurrant\"\n",
    "print(list1)"
   ]
  },
  {
   "cell_type": "code",
   "execution_count": 52,
   "metadata": {},
   "outputs": [
    {
     "name": "stdout",
     "output_type": "stream",
     "text": [
      "apple\n",
      "blackcurrant\n",
      "cherry\n"
     ]
    }
   ],
   "source": [
    "# Loop Through a List\n",
    "# You can loop through the list items by using a for loop:\n",
    "for x in list1:\n",
    "  print(x)"
   ]
  },
  {
   "cell_type": "code",
   "execution_count": 53,
   "metadata": {},
   "outputs": [
    {
     "name": "stdout",
     "output_type": "stream",
     "text": [
      "Yes, 'apple' is in the fruits list\n"
     ]
    }
   ],
   "source": [
    "# Check if Item Exists\n",
    "# To determine if a specified item is present in a list use the in keyword:\n",
    "if \"apple\" in list1:\n",
    "  print(\"Yes, 'apple' is in the fruits list\")"
   ]
  },
  {
   "cell_type": "code",
   "execution_count": 54,
   "metadata": {},
   "outputs": [
    {
     "name": "stdout",
     "output_type": "stream",
     "text": [
      "3\n"
     ]
    }
   ],
   "source": [
    "# List Length\n",
    "# To determine how many items a list has, use the len() method:\n",
    "print(len(list1))"
   ]
  },
  {
   "cell_type": "code",
   "execution_count": 55,
   "metadata": {},
   "outputs": [
    {
     "name": "stdout",
     "output_type": "stream",
     "text": [
      "['apple', 'blackcurrant', 'cherry', 'orange']\n"
     ]
    }
   ],
   "source": [
    "# Add Items\n",
    "# To add an item to the end of the list, use the append() method:\n",
    "list1.append(\"orange\")\n",
    "print(list1)"
   ]
  },
  {
   "cell_type": "code",
   "execution_count": 56,
   "metadata": {},
   "outputs": [
    {
     "name": "stdout",
     "output_type": "stream",
     "text": [
      "['apple', 'orange', 'blackcurrant', 'cherry', 'orange']\n"
     ]
    }
   ],
   "source": [
    "# To add an item at the specified index, use the insert() method:\n",
    "list1.insert(1, \"orange\")\n",
    "print(list1)"
   ]
  },
  {
   "cell_type": "code",
   "execution_count": 58,
   "metadata": {},
   "outputs": [
    {
     "name": "stdout",
     "output_type": "stream",
     "text": [
      "['orange', 'blackcurrant', 'cherry', 'orange']\n"
     ]
    }
   ],
   "source": [
    "# Remove Item\n",
    "# There are several methods to remove items from a list:\n",
    "# The remove() method removes the specified item:\n",
    "list1.remove(\"apple\")\n",
    "print(list1)"
   ]
  },
  {
   "cell_type": "code",
   "execution_count": 59,
   "metadata": {},
   "outputs": [
    {
     "name": "stdout",
     "output_type": "stream",
     "text": [
      "['orange', 'blackcurrant', 'cherry']\n"
     ]
    }
   ],
   "source": [
    "# The pop() method removes the specified index, (or the last item if index is not specified):\n",
    "list1.pop()\n",
    "print(list1)"
   ]
  },
  {
   "cell_type": "code",
   "execution_count": 60,
   "metadata": {},
   "outputs": [
    {
     "name": "stdout",
     "output_type": "stream",
     "text": [
      "['blackcurrant', 'cherry']\n"
     ]
    }
   ],
   "source": [
    "# The del keyword removes the specified index:\n",
    "del list1[0]\n",
    "print(list1)"
   ]
  },
  {
   "cell_type": "code",
   "execution_count": 61,
   "metadata": {},
   "outputs": [],
   "source": [
    "# The del keyword can also delete the list completely:\n",
    "del list1\n",
    "# print(list1) # This will cause an error because \"list1\" no longer exists."
   ]
  },
  {
   "cell_type": "code",
   "execution_count": 63,
   "metadata": {},
   "outputs": [
    {
     "name": "stdout",
     "output_type": "stream",
     "text": [
      "[]\n"
     ]
    }
   ],
   "source": [
    "# The clear() method empties the list:\n",
    "list1 = [\"apple\", \"banana\", \"cherry\"]\n",
    "list1.clear()\n",
    "print(list1)"
   ]
  },
  {
   "cell_type": "code",
   "execution_count": 64,
   "metadata": {},
   "outputs": [
    {
     "name": "stdout",
     "output_type": "stream",
     "text": [
      "['apple', 'banana', 'cherry']\n"
     ]
    }
   ],
   "source": [
    "# Copy a List\n",
    "# You cannot copy a list simply by typing list2 = list1, because: list2 will only be a reference to list1, and changes made in list1 will automatically also be made in list2.\n",
    "# There are ways to make a copy, one way is to use the built-in List method copy().\n",
    "list1 = [\"apple\", \"banana\", \"cherry\"]\n",
    "list2 = list1.copy()\n",
    "print(list2)"
   ]
  },
  {
   "cell_type": "code",
   "execution_count": 65,
   "metadata": {},
   "outputs": [
    {
     "name": "stdout",
     "output_type": "stream",
     "text": [
      "['apple', 'banana', 'cherry']\n"
     ]
    }
   ],
   "source": [
    "# Another way to make a copy is to use the built-in method list().\n",
    "list3 = list(list1)\n",
    "print(list3)"
   ]
  },
  {
   "cell_type": "code",
   "execution_count": 66,
   "metadata": {},
   "outputs": [
    {
     "name": "stdout",
     "output_type": "stream",
     "text": [
      "['apple', 'banana', 'cherry', 'apple', 'banana', 'cherry']\n"
     ]
    }
   ],
   "source": [
    "# Join Two Lists\n",
    "# There are several ways to join, or concatenate, two or more lists in Python.\n",
    "# One of the easiest ways are by using the + operator.\n",
    "list4 = list1 + list2\n",
    "print(list4)"
   ]
  },
  {
   "cell_type": "code",
   "execution_count": 68,
   "metadata": {},
   "outputs": [
    {
     "name": "stdout",
     "output_type": "stream",
     "text": [
      "['apple', 'banana', 'cherry', 'apple', 'banana', 'cherry', 'apple', 'banana', 'cherry']\n"
     ]
    }
   ],
   "source": [
    "# Another way to join two lists are by appending all the items from list2 into list1, one by one:\n",
    "for x in list2:\n",
    "  list1.append(x)\n",
    "print(list1)"
   ]
  },
  {
   "cell_type": "code",
   "execution_count": 70,
   "metadata": {},
   "outputs": [
    {
     "name": "stdout",
     "output_type": "stream",
     "text": [
      "['apple', 'banana', 'cherry', 'apple', 'banana', 'cherry', 'apple', 'banana', 'cherry', 'apple', 'banana', 'cherry']\n"
     ]
    }
   ],
   "source": [
    "# Or you can use the extend() method, which purpose is to add elements from one list to another list:\n",
    "list1.extend(list2)\n",
    "print(list1)"
   ]
  },
  {
   "cell_type": "code",
   "execution_count": 71,
   "metadata": {},
   "outputs": [],
   "source": [
    "# List Methods\n",
    "# Python has a set of built-in methods that you can use on lists.\n",
    "# Method\tDescription\n",
    "# append()\tAdds an element at the end of the list\n",
    "# clear()\tRemoves all the elements from the list\n",
    "# copy()\tReturns a copy of the list\n",
    "# count()\tReturns the number of elements with the specified value\n",
    "# extend()\tAdd the elements of a list (or any iterable), to the end of the current list\n",
    "# index()\tReturns the index of the first element with the specified value\n",
    "# insert()\tAdds an element at the specified position\n",
    "# pop()\tRemoves the element at the specified position\n",
    "# remove()\tRemoves the first item with the specified value\n",
    "# reverse()\tReverses the order of the list\n",
    "# sort()\tSorts the list\n",
    "# Note: Python does not have built-in support for Arrays, but Python Lists can be used instead."
   ]
  },
  {
   "cell_type": "code",
   "execution_count": 73,
   "metadata": {},
   "outputs": [
    {
     "name": "stdout",
     "output_type": "stream",
     "text": [
      "['apple']\n"
     ]
    }
   ],
   "source": [
    "# List Comprehension\n",
    "# List comprehension offers a shorter syntax when you want to create a new list based on the values of an existing list.\n",
    "# Example:\n",
    "fruits = [\"apple\", \"banana\", \"cherry\", \"kiwi\", \"mango\"]\n",
    "newlist = []\n",
    "word = \"apple\"\n",
    "for x in fruits:\n",
    "  if word in x:\n",
    "    newlist.append(x)\n",
    "print(newlist)"
   ]
  },
  {
   "cell_type": "code",
   "execution_count": 74,
   "metadata": {},
   "outputs": [
    {
     "name": "stdout",
     "output_type": "stream",
     "text": [
      "['apple']\n"
     ]
    }
   ],
   "source": [
    "# With list comprehension you can do all that with only one line of code:\n",
    "newlist = [x for x in fruits if word in x]\n",
    "print(newlist)"
   ]
  },
  {
   "cell_type": "code",
   "execution_count": 75,
   "metadata": {},
   "outputs": [
    {
     "name": "stdout",
     "output_type": "stream",
     "text": [
      "['banana', 'cherry', 'kiwi', 'mango']\n"
     ]
    }
   ],
   "source": [
    "# The Syntax\n",
    "# newlist = [expression for item in iterable if condition == True]\n",
    "# The return value is a new list, leaving the old list unchanged.\n",
    "# Condition\n",
    "# The condition is like a filter that only accepts the items that evaluate to True.\n",
    "# Example\n",
    "# Only accept items that are not \"apple\":\n",
    "newlist = [x for x in fruits if x != \"apple\"]\n",
    "print(newlist)"
   ]
  },
  {
   "cell_type": "code",
   "execution_count": 76,
   "metadata": {},
   "outputs": [
    {
     "name": "stdout",
     "output_type": "stream",
     "text": [
      "['cherry', 'orange', 'kiwi']\n"
     ]
    }
   ],
   "source": [
    "# Slice Lists\n",
    "# You can specify a range of indexes by specifying where to start and where to end the range.\n",
    "# When specifying a range, the return value will be a new list with the specified items.\n",
    "# Example\n",
    "# Return the third, fourth, and fifth item:\n",
    "thislist = [\"apple\", \"banana\", \"cherry\", \"orange\", \"kiwi\", \"melon\", \"mango\"]\n",
    "print(thislist[2:5])"
   ]
  },
  {
   "cell_type": "code",
   "execution_count": 78,
   "metadata": {},
   "outputs": [
    {
     "name": "stdout",
     "output_type": "stream",
     "text": [
      "['apple', 'banana', 'cherry', 'orange']\n"
     ]
    }
   ],
   "source": [
    "# By leaving out the start value, the range will start at the first item:\n",
    "print(thislist[:4])"
   ]
  },
  {
   "cell_type": "code",
   "execution_count": 79,
   "metadata": {},
   "outputs": [
    {
     "name": "stdout",
     "output_type": "stream",
     "text": [
      "['cherry', 'orange', 'kiwi', 'melon', 'mango']\n"
     ]
    }
   ],
   "source": [
    "# By leaving out the end value, the range will go on to the end of the list:\n",
    "print(thislist[2:])"
   ]
  },
  {
   "cell_type": "code",
   "execution_count": 80,
   "metadata": {},
   "outputs": [
    {
     "name": "stdout",
     "output_type": "stream",
     "text": [
      "['orange', 'kiwi', 'melon']\n"
     ]
    }
   ],
   "source": [
    "# Negative Indexing\n",
    "# Use negative indexes to start the slice from the end of the list:\n",
    "print(thislist[-4:-1])"
   ]
  },
  {
   "cell_type": "code",
   "execution_count": 81,
   "metadata": {},
   "outputs": [
    {
     "name": "stdout",
     "output_type": "stream",
     "text": [
      "['kiwi', 'melon']\n"
     ]
    }
   ],
   "source": [
    "# Range of Negative Indexes\n",
    "# Specify negative indexes if you want to start the search from the end of the list:\n",
    "print(thislist[-3:-1])"
   ]
  },
  {
   "cell_type": "markdown",
   "metadata": {},
   "source": [
    "### Tuple"
   ]
  },
  {
   "cell_type": "code",
   "execution_count": 37,
   "metadata": {},
   "outputs": [
    {
     "name": "stdout",
     "output_type": "stream",
     "text": [
      "(1, 2, 3, 4, 5)\n"
     ]
    }
   ],
   "source": [
    "# Tuple\n",
    "# Tuples are immutable --> unchangeable\n",
    "# Tuples are defined using the round brackets\n",
    "my_tuple = (1,2,3,4,5)\n",
    "print(my_tuple)"
   ]
  },
  {
   "cell_type": "code",
   "execution_count": 38,
   "metadata": {},
   "outputs": [
    {
     "name": "stdout",
     "output_type": "stream",
     "text": [
      "(2, 3, 1.8, 'English', True)\n"
     ]
    }
   ],
   "source": [
    "# Tuples can have multiple data types\n",
    "my_tuple = (2, 3, 1.8, 'English', True)\n",
    "print(my_tuple)"
   ]
  },
  {
   "cell_type": "code",
   "execution_count": 39,
   "metadata": {},
   "outputs": [
    {
     "name": "stdout",
     "output_type": "stream",
     "text": [
      "2\n"
     ]
    }
   ],
   "source": [
    "# print elements of a tuple using their index\n",
    "print(my_tuple[0])"
   ]
  },
  {
   "cell_type": "code",
   "execution_count": 41,
   "metadata": {},
   "outputs": [
    {
     "name": "stdout",
     "output_type": "stream",
     "text": [
      "(1, 2, 3, 4, 5, 12, 2, 3)\n"
     ]
    }
   ],
   "source": [
    "# Tuples allow duplicate values\n",
    "tuple_1 = (1,2,3,4,5,12,2,3)\n",
    "print(tuple_1)"
   ]
  },
  {
   "cell_type": "code",
   "execution_count": 42,
   "metadata": {},
   "outputs": [
    {
     "name": "stdout",
     "output_type": "stream",
     "text": [
      "()\n"
     ]
    }
   ],
   "source": [
    "# initiating an empty tuple\n",
    "tuple_2 = ()\n",
    "print(tuple_2)"
   ]
  },
  {
   "cell_type": "code",
   "execution_count": 46,
   "metadata": {},
   "outputs": [
    {
     "name": "stdout",
     "output_type": "stream",
     "text": [
      "(2, 3, 1.8, 'English', True, 6)\n"
     ]
    }
   ],
   "source": [
    "# delete a tuple\n",
    "tuple_2 = (2, 3, 1.8, 'English', True, 6)\n",
    "print(tuple_2)\n",
    "del tuple_2\n",
    "# print(tuple_2)\n",
    "# uncomment to see it'll throw an error"
   ]
  },
  {
   "cell_type": "code",
   "execution_count": 47,
   "metadata": {},
   "outputs": [
    {
     "name": "stdout",
     "output_type": "stream",
     "text": [
      "(1, 2, 3, 4, 5, 6, 7, 8, 9, 10)\n"
     ]
    }
   ],
   "source": [
    "# join two tuples\n",
    "tuple_3 = (1,2,3,4,5)\n",
    "tuple_4 = (6,7,8,9,10)\n",
    "tuple_5 = tuple_3 + tuple_4\n",
    "print(tuple_5)"
   ]
  },
  {
   "cell_type": "markdown",
   "metadata": {},
   "source": [
    "### Set"
   ]
  },
  {
   "cell_type": "code",
   "execution_count": 33,
   "metadata": {},
   "outputs": [
    {
     "name": "stdout",
     "output_type": "stream",
     "text": [
      "{1, 2, 3, 4, 5}\n"
     ]
    },
    {
     "data": {
      "text/plain": [
       "set"
      ]
     },
     "execution_count": 33,
     "metadata": {},
     "output_type": "execute_result"
    }
   ],
   "source": [
    "# Set is a collection of unique elements\n",
    "# Set is unordered\n",
    "# Set is mutable\n",
    "# Set is defined using curly braces\n",
    "my_set = {1,2,3,4,5}\n",
    "print(my_set)\n",
    "type(my_set)"
   ]
  },
  {
   "cell_type": "code",
   "execution_count": 34,
   "metadata": {},
   "outputs": [
    {
     "name": "stdout",
     "output_type": "stream",
     "text": [
      "{1, 2, 3, 4, 5}\n"
     ]
    }
   ],
   "source": [
    "# Set does not allow duplicate values\n",
    "my_set = {1,2,3,4,5,5,5,5}\n",
    "print(my_set)"
   ]
  },
  {
   "cell_type": "code",
   "execution_count": 36,
   "metadata": {},
   "outputs": [],
   "source": [
    "# Set does not allow indexing\n",
    "# print(my_set[0])"
   ]
  },
  {
   "cell_type": "markdown",
   "metadata": {},
   "source": [
    "### Dictionary (Key-Value Pair)"
   ]
  },
  {
   "cell_type": "code",
   "execution_count": 26,
   "metadata": {},
   "outputs": [
    {
     "name": "stdout",
     "output_type": "stream",
     "text": [
      "{'name': 'David', 'age': 30, 'country': 'India'}\n"
     ]
    },
    {
     "data": {
      "text/plain": [
       "dict"
      ]
     },
     "execution_count": 26,
     "metadata": {},
     "output_type": "execute_result"
    }
   ],
   "source": [
    "my_dictionary = {'name':'David','age':30,'country':'India'}\n",
    "print(my_dictionary)\n",
    "type(my_dictionary)"
   ]
  },
  {
   "cell_type": "code",
   "execution_count": 27,
   "metadata": {},
   "outputs": [
    {
     "name": "stdout",
     "output_type": "stream",
     "text": [
      "David\n",
      "30\n",
      "India\n"
     ]
    }
   ],
   "source": [
    "# Accessing elements in a dictionary\n",
    "print(my_dictionary['name'])\n",
    "print(my_dictionary['age'])\n",
    "print(my_dictionary['country'])"
   ]
  },
  {
   "cell_type": "code",
   "execution_count": 28,
   "metadata": {},
   "outputs": [
    {
     "name": "stdout",
     "output_type": "stream",
     "text": [
      "{'name': 'David', 'age': 30, 'country': 'India', 'city': 'Mumbai'}\n"
     ]
    }
   ],
   "source": [
    "# Adding elements to a dictionary\n",
    "my_dictionary['city'] = 'Mumbai'\n",
    "print(my_dictionary)"
   ]
  },
  {
   "cell_type": "code",
   "execution_count": 29,
   "metadata": {},
   "outputs": [
    {
     "name": "stdout",
     "output_type": "stream",
     "text": [
      "{'name': 'David', 'country': 'India', 'city': 'Mumbai'}\n"
     ]
    }
   ],
   "source": [
    "# Deleting elements in a dictionary\n",
    "del my_dictionary['age']\n",
    "print(my_dictionary)"
   ]
  },
  {
   "cell_type": "code",
   "execution_count": 30,
   "metadata": {},
   "outputs": [
    {
     "name": "stdout",
     "output_type": "stream",
     "text": [
      "{'name': 'John', 'age': 30, 'country': 'India'}\n"
     ]
    }
   ],
   "source": [
    "# Dictionary keys should be unique\n",
    "my_dictionary = {'name':'David','age':30,'country':'India','name':'John'}\n",
    "print(my_dictionary)"
   ]
  },
  {
   "cell_type": "code",
   "execution_count": 31,
   "metadata": {},
   "outputs": [
    {
     "name": "stdout",
     "output_type": "stream",
     "text": [
      "{'name': 'David', 'age': 30, 'country': 'India', 'city': 'Mumbai', 'is_student': True}\n"
     ]
    }
   ],
   "source": [
    "# Dictionary values can be of any data type\n",
    "my_dictionary = {'name':'David','age':30,'country':'India','city':'Mumbai','is_student':True}\n",
    "print(my_dictionary)"
   ]
  },
  {
   "cell_type": "code",
   "execution_count": 32,
   "metadata": {},
   "outputs": [
    {
     "name": "stdout",
     "output_type": "stream",
     "text": [
      "{'name': 'David', 'age': 30, 'country': 'India', 'city': 'Mumbai', 'is_student': True, 'education': {'degree': 'Masters', 'year': 2020}}\n"
     ]
    }
   ],
   "source": [
    "# Nested Dictionary\n",
    "my_dictionary = {'name':'David','age':30,'country':'India','city':'Mumbai','is_student':True,'education':{'degree':'Masters','year':2020}}\n",
    "print(my_dictionary)"
   ]
  }
 ],
 "metadata": {
  "kernelspec": {
   "display_name": "venv",
   "language": "python",
   "name": "python3"
  },
  "language_info": {
   "codemirror_mode": {
    "name": "ipython",
    "version": 3
   },
   "file_extension": ".py",
   "mimetype": "text/x-python",
   "name": "python",
   "nbconvert_exporter": "python",
   "pygments_lexer": "ipython3",
   "version": "3.12.7"
  }
 },
 "nbformat": 4,
 "nbformat_minor": 2
}
